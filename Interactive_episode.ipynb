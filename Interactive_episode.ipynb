{
 "cells": [
  {
   "cell_type": "markdown",
   "metadata": {},
   "source": [
    "# Interactive episode\n",
    "Analyze interactively how did car behave every step."
   ]
  },
  {
   "cell_type": "code",
   "execution_count": 1,
   "metadata": {},
   "outputs": [],
   "source": [
    "import math\n",
    "import pandas as pd\n",
    "import numpy as np\n",
    "import plotly.express as px\n",
    "from deepracer.tracks import TrackIO, Track\n",
    "from deepracer.logs import CloudWatchLogs as cw, \\\n",
    "    SimulationLogsIO as slio, \\\n",
    "    AnalysisUtils as au, \\\n",
    "    PlottingUtils as pu\n",
    "%matplotlib notebook"
   ]
  },
  {
   "cell_type": "markdown",
   "metadata": {},
   "source": [
    "## Load track"
   ]
  },
  {
   "cell_type": "code",
   "execution_count": 2,
   "metadata": {},
   "outputs": [
    {
     "name": "stdout",
     "output_type": "stream",
     "text": [
      "AmericasGeneratedInclStart.npy\tNew_York_Eval_Track.npy\n",
      "AWS_track.npy\t\t\tNew_York_Track.npy\n",
      "Bowtie_track.npy\t\tOval_track.npy\n",
      "Canada_Eval.npy\t\t\treInvent2019_track.npy\n",
      "Canada_Training.npy\t\treInvent2019_wide_mirrored.npy\n",
      "China_eval_track.npy\t\treInvent2019_wide.npy\n",
      "China_track.npy\t\t\treinvent_base.npy\n",
      "FS_June2020.npy\t\t\tSpain_track.npy\n",
      "H_track.npy\t\t\tStraight_track.npy\n",
      "LGSWide.npy\t\t\tTokyo_Training_track.npy\n",
      "London_Loop_Train.npy\t\tVegas_track.npy\n",
      "Mexico_track_eval.npy\t\tVirtual_May19_Train_track.npy\n",
      "Mexico_track.npy\n"
     ]
    }
   ],
   "source": [
    "!ls tracks/"
   ]
  },
  {
   "cell_type": "code",
   "execution_count": 3,
   "metadata": {},
   "outputs": [],
   "source": [
    "tu = TrackIO()"
   ]
  },
  {
   "cell_type": "code",
   "execution_count": 4,
   "metadata": {},
   "outputs": [
    {
     "name": "stdout",
     "output_type": "stream",
     "text": [
      "Loaded 155 waypoints\n"
     ]
    }
   ],
   "source": [
    "track = tu.load_track(\"reInvent2019_track\")"
   ]
  },
  {
   "cell_type": "code",
   "execution_count": 5,
   "metadata": {},
   "outputs": [],
   "source": [
    "def plot_track(t, fig=None):\n",
    "    ratio = (lambda x,y: x / y)(*t.size())\n",
    "    if fig is None:\n",
    "        fig = plt.figure(figsize=(16,8))\n",
    "    ax = fig.add_subplot()\n",
    "    ax.axis('equal')\n",
    "    ax.plot(*t.center_line.T, 'b')\n",
    "    ax.plot(*t.outer_border.T, 'b')\n",
    "    ax.plot(*t.inner_border.T, 'b')\n",
    "    return ax"
   ]
  },
  {
   "cell_type": "code",
   "execution_count": 6,
   "metadata": {},
   "outputs": [
    {
     "data": {
      "image/png": "[encoded data removed]",
      "text/plain": [
       "<Figure size 576x288 with 1 Axes>"
      ]
     },
     "metadata": {
      "needs_background": "light"
     },
     "output_type": "display_data"
    }
   ],
   "source": [
    "fig = plt.figure(figsize=(8,4))\n",
    "ax = plot_track(track, fig)"
   ]
  },
  {
   "cell_type": "markdown",
   "metadata": {},
   "source": [
    "## Load log"
   ]
  },
  {
   "cell_type": "code",
   "execution_count": 9,
   "metadata": {},
   "outputs": [],
   "source": [
    "stream_name = 'XTS-kappa' ## CHANGE This to your simulation application ID\n",
    "fname = 'logs/deepracer-%s.log' %stream_name  # The log will be downloaded into the specified path"
   ]
  },
  {
   "cell_type": "code",
   "execution_count": 10,
   "metadata": {},
   "outputs": [
    {
     "name": "stdout",
     "output_type": "stream",
     "text": [
      "Log file exists, use force=True to download again\n"
     ]
    }
   ],
   "source": [
    "cw.download_log(fname, stream_prefix=stream_name)  # add force=True if you downloaded the file before but want to repeat"
   ]
  },
  {
   "cell_type": "code",
   "execution_count": 13,
   "metadata": {},
   "outputs": [],
   "source": [
    "EPISODES_PER_ITERATION = 40 #  Set to value of your hyperparameter in training\n",
    "\n",
    "data = slio.load_data(fname)\n",
    "df = slio.convert_to_pandas(data, episodes_per_iteration=EPISODES_PER_ITERATION)\n",
    "\n",
    "df = df.sort_values(['episode', 'steps'])"
   ]
  },
  {
   "cell_type": "code",
   "execution_count": 14,
   "metadata": {},
   "outputs": [
    {
     "data": {
      "text/html": [
       "<div>\n",
       "<style scoped>\n",
       "    .dataframe tbody tr th:only-of-type {\n",
       "        vertical-align: middle;\n",
       "    }\n",
       "\n",
       "    .dataframe tbody tr th {\n",
       "        vertical-align: top;\n",
       "    }\n",
       "\n",
       "    .dataframe thead th {\n",
       "        text-align: right;\n",
       "    }\n",
       "</style>\n",
       "<table border=\"1\" class=\"dataframe\">\n",
       "  <thead>\n",
       "    <tr style=\"text-align: right;\">\n",
       "      <th></th>\n",
       "      <th>iteration</th>\n",
       "      <th>episode</th>\n",
       "      <th>steps</th>\n",
       "      <th>x</th>\n",
       "      <th>y</th>\n",
       "      <th>yaw</th>\n",
       "      <th>steer</th>\n",
       "      <th>throttle</th>\n",
       "      <th>action</th>\n",
       "      <th>reward</th>\n",
       "      <th>done</th>\n",
       "      <th>on_track</th>\n",
       "      <th>progress</th>\n",
       "      <th>closest_waypoint</th>\n",
       "      <th>track_len</th>\n",
       "      <th>timestamp</th>\n",
       "    </tr>\n",
       "  </thead>\n",
       "  <tbody>\n",
       "    <tr>\n",
       "      <th>0</th>\n",
       "      <td>1</td>\n",
       "      <td>0</td>\n",
       "      <td>3</td>\n",
       "      <td>0.3294</td>\n",
       "      <td>2.6495</td>\n",
       "      <td>-83.1308</td>\n",
       "      <td>-15.0</td>\n",
       "      <td>2.2</td>\n",
       "      <td>1.0</td>\n",
       "      <td>1.5755</td>\n",
       "      <td>0</td>\n",
       "      <td>True</td>\n",
       "      <td>0.7892</td>\n",
       "      <td>1</td>\n",
       "      <td>23.12</td>\n",
       "      <td>1592825104.5121763</td>\n",
       "    </tr>\n",
       "    <tr>\n",
       "      <th>1</th>\n",
       "      <td>1</td>\n",
       "      <td>0</td>\n",
       "      <td>4</td>\n",
       "      <td>0.3387</td>\n",
       "      <td>2.5980</td>\n",
       "      <td>-82.0823</td>\n",
       "      <td>15.0</td>\n",
       "      <td>2.2</td>\n",
       "      <td>5.0</td>\n",
       "      <td>1.6669</td>\n",
       "      <td>0</td>\n",
       "      <td>True</td>\n",
       "      <td>1.0152</td>\n",
       "      <td>2</td>\n",
       "      <td>23.12</td>\n",
       "      <td>1592825104.5871804</td>\n",
       "    </tr>\n",
       "    <tr>\n",
       "      <th>2</th>\n",
       "      <td>1</td>\n",
       "      <td>0</td>\n",
       "      <td>5</td>\n",
       "      <td>0.3496</td>\n",
       "      <td>2.5403</td>\n",
       "      <td>-81.1293</td>\n",
       "      <td>-3.0</td>\n",
       "      <td>2.9</td>\n",
       "      <td>2.0</td>\n",
       "      <td>1.6889</td>\n",
       "      <td>0</td>\n",
       "      <td>True</td>\n",
       "      <td>1.2690</td>\n",
       "      <td>2</td>\n",
       "      <td>23.12</td>\n",
       "      <td>1592825104.6999643</td>\n",
       "    </tr>\n",
       "    <tr>\n",
       "      <th>3</th>\n",
       "      <td>1</td>\n",
       "      <td>0</td>\n",
       "      <td>6</td>\n",
       "      <td>0.3684</td>\n",
       "      <td>2.4479</td>\n",
       "      <td>-79.8422</td>\n",
       "      <td>30.0</td>\n",
       "      <td>1.4</td>\n",
       "      <td>6.0</td>\n",
       "      <td>1.8155</td>\n",
       "      <td>0</td>\n",
       "      <td>True</td>\n",
       "      <td>1.6783</td>\n",
       "      <td>3</td>\n",
       "      <td>23.12</td>\n",
       "      <td>1592825104.7981915</td>\n",
       "    </tr>\n",
       "    <tr>\n",
       "      <th>4</th>\n",
       "      <td>1</td>\n",
       "      <td>0</td>\n",
       "      <td>7</td>\n",
       "      <td>0.3847</td>\n",
       "      <td>2.3775</td>\n",
       "      <td>-78.6707</td>\n",
       "      <td>-3.0</td>\n",
       "      <td>2.9</td>\n",
       "      <td>2.0</td>\n",
       "      <td>1.7378</td>\n",
       "      <td>0</td>\n",
       "      <td>True</td>\n",
       "      <td>1.9924</td>\n",
       "      <td>3</td>\n",
       "      <td>23.12</td>\n",
       "      <td>1592825104.9022822</td>\n",
       "    </tr>\n",
       "    <tr>\n",
       "      <th>...</th>\n",
       "      <td>...</td>\n",
       "      <td>...</td>\n",
       "      <td>...</td>\n",
       "      <td>...</td>\n",
       "      <td>...</td>\n",
       "      <td>...</td>\n",
       "      <td>...</td>\n",
       "      <td>...</td>\n",
       "      <td>...</td>\n",
       "      <td>...</td>\n",
       "      <td>...</td>\n",
       "      <td>...</td>\n",
       "      <td>...</td>\n",
       "      <td>...</td>\n",
       "      <td>...</td>\n",
       "      <td>...</td>\n",
       "    </tr>\n",
       "    <tr>\n",
       "      <th>57872</th>\n",
       "      <td>23</td>\n",
       "      <td>919</td>\n",
       "      <td>56</td>\n",
       "      <td>4.9500</td>\n",
       "      <td>-0.1680</td>\n",
       "      <td>-37.5724</td>\n",
       "      <td>30.0</td>\n",
       "      <td>1.4</td>\n",
       "      <td>6.0</td>\n",
       "      <td>2.0498</td>\n",
       "      <td>0</td>\n",
       "      <td>True</td>\n",
       "      <td>31.3379</td>\n",
       "      <td>41</td>\n",
       "      <td>23.12</td>\n",
       "      <td>1592833523.705073</td>\n",
       "    </tr>\n",
       "    <tr>\n",
       "      <th>57873</th>\n",
       "      <td>23</td>\n",
       "      <td>919</td>\n",
       "      <td>57</td>\n",
       "      <td>5.0132</td>\n",
       "      <td>-0.2050</td>\n",
       "      <td>-34.4433</td>\n",
       "      <td>30.0</td>\n",
       "      <td>1.4</td>\n",
       "      <td>6.0</td>\n",
       "      <td>1.7378</td>\n",
       "      <td>0</td>\n",
       "      <td>True</td>\n",
       "      <td>31.5878</td>\n",
       "      <td>42</td>\n",
       "      <td>23.12</td>\n",
       "      <td>1592833523.8044674</td>\n",
       "    </tr>\n",
       "    <tr>\n",
       "      <th>57874</th>\n",
       "      <td>23</td>\n",
       "      <td>919</td>\n",
       "      <td>58</td>\n",
       "      <td>5.1059</td>\n",
       "      <td>-0.2492</td>\n",
       "      <td>-29.6301</td>\n",
       "      <td>-3.0</td>\n",
       "      <td>2.9</td>\n",
       "      <td>2.0</td>\n",
       "      <td>0.0113</td>\n",
       "      <td>0</td>\n",
       "      <td>False</td>\n",
       "      <td>31.7872</td>\n",
       "      <td>42</td>\n",
       "      <td>23.12</td>\n",
       "      <td>1592833523.8910596</td>\n",
       "    </tr>\n",
       "    <tr>\n",
       "      <th>57875</th>\n",
       "      <td>23</td>\n",
       "      <td>919</td>\n",
       "      <td>59</td>\n",
       "      <td>5.2362</td>\n",
       "      <td>-0.2929</td>\n",
       "      <td>-22.4220</td>\n",
       "      <td>0.0</td>\n",
       "      <td>3.1</td>\n",
       "      <td>3.0</td>\n",
       "      <td>0.0131</td>\n",
       "      <td>0</td>\n",
       "      <td>False</td>\n",
       "      <td>32.2956</td>\n",
       "      <td>43</td>\n",
       "      <td>23.12</td>\n",
       "      <td>1592833524.0261035</td>\n",
       "    </tr>\n",
       "    <tr>\n",
       "      <th>57876</th>\n",
       "      <td>23</td>\n",
       "      <td>919</td>\n",
       "      <td>60</td>\n",
       "      <td>5.4660</td>\n",
       "      <td>-0.3273</td>\n",
       "      <td>-7.0646</td>\n",
       "      <td>30.0</td>\n",
       "      <td>1.4</td>\n",
       "      <td>6.0</td>\n",
       "      <td>0.0139</td>\n",
       "      <td>1</td>\n",
       "      <td>False</td>\n",
       "      <td>32.9311</td>\n",
       "      <td>44</td>\n",
       "      <td>23.12</td>\n",
       "      <td>1592833524.1205559</td>\n",
       "    </tr>\n",
       "  </tbody>\n",
       "</table>\n",
       "<p>57877 rows × 16 columns</p>\n",
       "</div>"
      ],
      "text/plain": [
       "       iteration  episode  steps       x       y      yaw  steer  throttle  \\\n",
       "0              1        0      3  0.3294  2.6495 -83.1308  -15.0       2.2   \n",
       "1              1        0      4  0.3387  2.5980 -82.0823   15.0       2.2   \n",
       "2              1        0      5  0.3496  2.5403 -81.1293   -3.0       2.9   \n",
       "3              1        0      6  0.3684  2.4479 -79.8422   30.0       1.4   \n",
       "4              1        0      7  0.3847  2.3775 -78.6707   -3.0       2.9   \n",
       "...          ...      ...    ...     ...     ...      ...    ...       ...   \n",
       "57872         23      919     56  4.9500 -0.1680 -37.5724   30.0       1.4   \n",
       "57873         23      919     57  5.0132 -0.2050 -34.4433   30.0       1.4   \n",
       "57874         23      919     58  5.1059 -0.2492 -29.6301   -3.0       2.9   \n",
       "57875         23      919     59  5.2362 -0.2929 -22.4220    0.0       3.1   \n",
       "57876         23      919     60  5.4660 -0.3273  -7.0646   30.0       1.4   \n",
       "\n",
       "       action  reward  done on_track  progress  closest_waypoint  track_len  \\\n",
       "0         1.0  1.5755     0     True    0.7892                 1      23.12   \n",
       "1         5.0  1.6669     0     True    1.0152                 2      23.12   \n",
       "2         2.0  1.6889     0     True    1.2690                 2      23.12   \n",
       "3         6.0  1.8155     0     True    1.6783                 3      23.12   \n",
       "4         2.0  1.7378     0     True    1.9924                 3      23.12   \n",
       "...       ...     ...   ...      ...       ...               ...        ...   \n",
       "57872     6.0  2.0498     0     True   31.3379                41      23.12   \n",
       "57873     6.0  1.7378     0     True   31.5878                42      23.12   \n",
       "57874     2.0  0.0113     0    False   31.7872                42      23.12   \n",
       "57875     3.0  0.0131     0    False   32.2956                43      23.12   \n",
       "57876     6.0  0.0139     1    False   32.9311                44      23.12   \n",
       "\n",
       "                timestamp  \n",
       "0      1592825104.5121763  \n",
       "1      1592825104.5871804  \n",
       "2      1592825104.6999643  \n",
       "3      1592825104.7981915  \n",
       "4      1592825104.9022822  \n",
       "...                   ...  \n",
       "57872   1592833523.705073  \n",
       "57873  1592833523.8044674  \n",
       "57874  1592833523.8910596  \n",
       "57875  1592833524.0261035  \n",
       "57876  1592833524.1205559  \n",
       "\n",
       "[57877 rows x 16 columns]"
      ]
     },
     "execution_count": 14,
     "metadata": {},
     "output_type": "execute_result"
    }
   ],
   "source": [
    "df"
   ]
  },
  {
   "cell_type": "markdown",
   "metadata": {},
   "source": [
    "# Create interactive plot\n",
    "Uses plotly and requires jupyter in classic notebook mode to work."
   ]
  },
  {
   "cell_type": "code",
   "execution_count": null,
   "metadata": {},
   "outputs": [],
   "source": [
    "px.scatter(df, x='x', y='y', color='throttle', size='reward', animation_frame='episode')"
   ]
  }
 ],
 "metadata": {
  "kernelspec": {
   "display_name": "Python 3",
   "language": "python",
   "name": "python3"
  },
  "language_info": {
   "codemirror_mode": {
    "name": "ipython",
    "version": 3
   },
   "file_extension": ".py",
   "mimetype": "text/x-python",
   "name": "python",
   "nbconvert_exporter": "python",
   "pygments_lexer": "ipython3",
   "version": "3.8.2"
  }
 },
 "nbformat": 4,
 "nbformat_minor": 4
}
